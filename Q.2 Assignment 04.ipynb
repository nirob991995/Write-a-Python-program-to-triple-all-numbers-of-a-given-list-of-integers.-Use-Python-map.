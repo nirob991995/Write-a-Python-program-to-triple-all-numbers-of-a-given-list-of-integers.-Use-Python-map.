{
 "cells": [
  {
   "cell_type": "markdown",
   "id": "f4da48bf",
   "metadata": {},
   "source": [
    "## Write a Python program to triple all numbers of a given list of integers. Use Python map.\n",
    "\n",
    "sample list:  [1, 2, 3, 4, 5, 6, 7]\n",
    "\n",
    "Triple of list numbers:  [3, 6, 9, 12, 15, 18, 21]"
   ]
  },
  {
   "cell_type": "code",
   "execution_count": 1,
   "id": "17ccf5fb",
   "metadata": {},
   "outputs": [
    {
     "name": "stdout",
     "output_type": "stream",
     "text": [
      "Enter numbers separated by comma or a lists :- [1,2,3,4,5,6,7]\n",
      "sample list :  [1, 2, 3, 4, 5, 6, 7]\n",
      "Triple of list numbers :  [3, 6, 9, 12, 15, 18, 21]\n"
     ]
    }
   ],
   "source": [
    "# approach 1\n",
    "# using map function to triple no.\n",
    "from ast import literal_eval\n",
    "                                                                \n",
    "lists = list(literal_eval(input(\"Enter numbers separated by comma or a lists :- \")))\n",
    "triple_no = list(map(lambda x : x*3, lists))      # using lambda function with one bound variable inside map()\n",
    "print(\"sample list : \", lists)\n",
    "print(\"Triple of list numbers : \", triple_no)   # printing out of the input list items\n"
   ]
  },
  {
   "cell_type": "code",
   "execution_count": 2,
   "id": "256aa3b1",
   "metadata": {},
   "outputs": [
    {
     "name": "stdout",
     "output_type": "stream",
     "text": [
      "Enter the numbers separated by comma : 1,2,3,4,5,6,7\n",
      "sample list :  [1, 2, 3, 4, 5, 6, 7]\n",
      "Triple of list numbers :  [3, 6, 9, 12, 15, 18, 21]\n"
     ]
    }
   ],
   "source": [
    "# approach 2\n",
    "# using user define function \n",
    " # using map function to triple no.\n",
    "    \n",
    "def fun(number):\n",
    "    n = number*3\n",
    "    return n\n",
    "                                                             # using list comprenshion to take input\n",
    "lists = [int(i) for i in input(\"Enter the numbers separated by comma : \").split(\",\")]  \n",
    "triple_no = list(map(fun, lists))           # using lambda function with one bound variable inside map()\n",
    "print(\"sample list : \", lists)               \n",
    "print(\"Triple of list numbers : \", triple_no)       # printing out of the input list items\n"
   ]
  },
  {
   "cell_type": "code",
   "execution_count": null,
   "id": "abb756ab",
   "metadata": {},
   "outputs": [],
   "source": []
  },
  {
   "cell_type": "code",
   "execution_count": null,
   "id": "5700d99d",
   "metadata": {},
   "outputs": [],
   "source": []
  }
 ],
 "metadata": {
  "kernelspec": {
   "display_name": "Python 3 (ipykernel)",
   "language": "python",
   "name": "python3"
  },
  "language_info": {
   "codemirror_mode": {
    "name": "ipython",
    "version": 3
   },
   "file_extension": ".py",
   "mimetype": "text/x-python",
   "name": "python",
   "nbconvert_exporter": "python",
   "pygments_lexer": "ipython3",
   "version": "3.8.9"
  }
 },
 "nbformat": 4,
 "nbformat_minor": 5
}
